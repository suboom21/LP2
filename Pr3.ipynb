{
 "cells": [
  {
   "cell_type": "code",
   "execution_count": 1,
   "id": "f28898ec-19fb-41a9-a6dd-ab4208878fe8",
   "metadata": {},
   "outputs": [
    {
     "name": "stdin",
     "output_type": "stream",
     "text": [
      "How many elements do you want to sort?  5\n"
     ]
    }
   ],
   "source": [
    "x = []\n",
    "n = int(input(\"How many elements do you want to sort? \"))"
   ]
  },
  {
   "cell_type": "code",
   "execution_count": 2,
   "id": "6cbde7be-4192-4300-9708-2be0af87a746",
   "metadata": {},
   "outputs": [
    {
     "name": "stdin",
     "output_type": "stream",
     "text": [
      "Enter 45\n",
      "Enter 20\n",
      "Enter 25\n",
      "Enter 10\n",
      "Enter 15\n"
     ]
    },
    {
     "name": "stdout",
     "output_type": "stream",
     "text": [
      "Unsorted elements:  [45, 20, 25, 10, 15]\n"
     ]
    }
   ],
   "source": [
    "for i in range(n):\n",
    "    a = int(input(\"Enter\"))\n",
    "    x.append(a)\n",
    "print(\"Unsorted elements: \", x)"
   ]
  },
  {
   "cell_type": "code",
   "execution_count": 3,
   "id": "1c7abb04-9df4-45fc-9434-629cb8b74043",
   "metadata": {},
   "outputs": [
    {
     "name": "stdout",
     "output_type": "stream",
     "text": [
      "Sorted elements:  [10, 15, 20, 25, 45]\n"
     ]
    }
   ],
   "source": [
    "for i in range(0, n-1):\n",
    "    for j in range(i+1, n):\n",
    "        if x[i] > x[j]:\n",
    "            x[i], x[j] = x[j], x[i]\n",
    "print(\"Sorted elements: \", x)"
   ]
  }
 ],
 "metadata": {
  "kernelspec": {
   "display_name": "Python 3 (ipykernel)",
   "language": "python",
   "name": "python3"
  },
  "language_info": {
   "codemirror_mode": {
    "name": "ipython",
    "version": 3
   },
   "file_extension": ".py",
   "mimetype": "text/x-python",
   "name": "python",
   "nbconvert_exporter": "python",
   "pygments_lexer": "ipython3",
   "version": "3.12.3"
  }
 },
 "nbformat": 4,
 "nbformat_minor": 5
}
